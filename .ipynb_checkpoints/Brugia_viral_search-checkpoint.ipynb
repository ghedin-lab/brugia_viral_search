{
 "cells": [
  {
   "cell_type": "markdown",
   "metadata": {
    "collapsed": true
   },
   "source": [
    "# Brugia Viral Search\n",
    "\n",
    "The goal of this analysis is to identify and hopefully assemble to some degree the viruses that are found present in the Brugia RNA-Seq data."
   ]
  },
  {
   "cell_type": "markdown",
   "metadata": {},
   "source": [
    "The first step is to run kraken on the data to identify likely viruses from the RefSeq database. Given it is limited to the RefSeq database, it is surely not comprehensive enough to be extrememly beneficial in de novo assembly, so LMAT is going to be run as well.\n",
    "\n",
    "All data for this project can be found here: /scratch/at120/brugia-rnaseq/brugia_viral_search\n",
    "Currently only working with this run: 2015-07-24_H55MKBCXX\n",
    "\n",
    "The Brugia data have been filtered out via tophat which may or may not be suffice. We will have to see"
   ]
  },
  {
   "cell_type": "markdown",
   "metadata": {},
   "source": [
    "## H55MKBCXX Run"
   ]
  },
  {
   "cell_type": "code",
   "execution_count": null,
   "metadata": {
    "collapsed": true
   },
   "outputs": [],
   "source": [
    "qsub run-kraken.sh"
   ]
  },
  {
   "cell_type": "markdown",
   "metadata": {},
   "source": [
    "Once kraken has generated output, obtaining the reads that are viral and not bactieria, arcahea, or phiX can be done with the following command"
   ]
  },
  {
   "cell_type": "code",
   "execution_count": null,
   "metadata": {
    "collapsed": true
   },
   "outputs": [],
   "source": [
    "grep 'Virus' kraken.translate.out | grep -v 'phiX' | cut -f1 > viral-read-names.txt"
   ]
  },
  {
   "cell_type": "markdown",
   "metadata": {},
   "source": [
    "Once these read names are generate the below script can be executed to extract the reads that are either: \n",
    "A) viral and not phiX based on the kraken classification\n",
    "B) not listed in the kraken output since these are \"non-Brugia/wolbachia\" reads."
   ]
  },
  {
   "cell_type": "code",
   "execution_count": null,
   "metadata": {
    "collapsed": true
   },
   "outputs": [],
   "source": [
    "python extract-viral-reads.py"
   ]
  },
  {
   "cell_type": "markdown",
   "metadata": {},
   "source": [
    "Once that's done we need to pair up the reads into pairs and orphans\n",
    "\n",
    "I need to add the functionality to original extraction script but for now I'm going to use the khmer script"
   ]
  },
  {
   "cell_type": "code",
   "execution_count": null,
   "metadata": {
    "collapsed": true
   },
   "outputs": [],
   "source": [
    "module load biopython\n",
    "python extract-paired-reads.py all-unmapped.r1.viral.fastq all-unmapped.r2.viral.fastq all-unmapped.r1.viral.pe.fastq all-unmapped.r2.viral.pe.fastq all-unmapped.viral.se.fastq"
   ]
  },
  {
   "cell_type": "markdown",
   "metadata": {},
   "source": [
    "For the first run, I'm sending it through IDBA to see if there's anything fruitful without manipulating the data (normalizing, partioning, more filtering, etc.)."
   ]
  },
  {
   "cell_type": "code",
   "execution_count": null,
   "metadata": {
    "collapsed": true
   },
   "outputs": [],
   "source": [
    "python interleave-fastq-to-fasta.py all-unmapped.r1.viral.pe.fastq all-unmapped.r2.viral.pe.fastq > all-unmapped.viral.interleaved.fasta\n",
    "\n",
    "qsub -v path=/scratch/at120/brugia-rnaseq/brugia_viral_search,fasta=all-unmapped.viral.interleaved.fasta run-idba.sh"
   ]
  },
  {
   "cell_type": "markdown",
   "metadata": {},
   "source": [
    "Putting this through IDBA, blasting, and then running Krona yielded 0 virus contigs LOL."
   ]
  },
  {
   "cell_type": "markdown",
   "metadata": {},
   "source": [
    "### Choristoneura occidentalis granulovirus"
   ]
  },
  {
   "cell_type": "markdown",
   "metadata": {},
   "source": [
    "This, next to PhiX, is the most prevalent virus in this run, so I'm going to start with this one first.\n",
    "\n",
    "http://www.ncbi.nlm.nih.gov/nuccore/NC_008168.1"
   ]
  },
  {
   "cell_type": "markdown",
   "metadata": {},
   "source": [
    "#### Mapping"
   ]
  },
  {
   "cell_type": "markdown",
   "metadata": {},
   "source": [
    "I'm mapping the reads to the genoem initially to see what kind of overage we're getting and if a near complete genome is possible.\n",
    "\n",
    "I think the insert size is -50? Bowtie2 doesn't allow negative insert sizes so that sucks"
   ]
  },
  {
   "cell_type": "code",
   "execution_count": null,
   "metadata": {
    "collapsed": true
   },
   "outputs": [],
   "source": [
    "module load bowtie2/2.2.7\n",
    "module load samtools/intel/1.3\n",
    "cd /scratch/at120/brugia-rnaseq/brugia_viral_search/suspected-viruses/Choristoneura_occidentalis_granulovirus\n",
    "\n",
    "bowtie2-build choristoneura_genome.fasta choristoneura_genome.fasta\n",
    "\n",
    "bowtie2 \\\n",
    "-p 12 \\\n",
    "--very-sensitive-local \\\n",
    "--un-conc non-choco-virus.fastq \\\n",
    "-x choristoneura_genome.fasta \\\n",
    "-1 all-unmapped.r1.viral.pe.fastq \\\n",
    "-2 all-unmapped.r2.viral.pe.fastq \\\n",
    "-S choristoneura_genome.sam\n",
    "\n",
    "module load samtools/intel/1.3\n",
    "samtools view -b -o choristoneura_genome.bam choristoneura_genome.sam"
   ]
  },
  {
   "cell_type": "markdown",
   "metadata": {},
   "source": [
    "4011418 reads; of these:\n",
    "  4011418 (100.00%) were paired; of these:\n",
    "    968151 (24.13%) aligned concordantly 0 times\n",
    "    3041538 (75.82%) aligned concordantly exactly 1 time\n",
    "    1729 (0.04%) aligned concordantly >1 times\n",
    "    ----\n",
    "    968151 pairs aligned concordantly 0 times; of these:\n",
    "      678294 (70.06%) aligned discordantly 1 time\n",
    "    ----\n",
    "    289857 pairs aligned 0 times concordantly or discordantly; of these:\n",
    "      579714 mates make up the pairs; of these:\n",
    "        579000 (99.88%) aligned 0 times\n",
    "        580 (0.10%) aligned exactly 1 time\n",
    "        134 (0.02%) aligned >1 times\n",
    "92.78% overall alignment rate\n",
    "\n",
    "The majority of these reads mapped to a very small segment that was presumably one of the unique regions chosen by Kraken, hence why the majority of these reads were assigned to this virus.\n",
    "\n",
    "I'm concluding this isn't present in this sample.\n",
    "\n",
    "![alt text](/Users/alan/projects/brugia_viral_search/choco-virus/igv_snapshot.png\")"
   ]
  },
  {
   "cell_type": "markdown",
   "metadata": {},
   "source": [
    "### Simbu Virus"
   ]
  },
  {
   "cell_type": "markdown",
   "metadata": {},
   "source": [
    "http://www.ncbi.nlm.nih.gov/genome/?term=Simbu%20virus\n",
    "\n",
    "all of the reference sequences can be found with the kraken database: /scratch/at120/shared/db/kraken/standard/library/Viruses/\n",
    "\n",
    "This one had the same phenomenon, so rule this out."
   ]
  },
  {
   "cell_type": "markdown",
   "metadata": {},
   "source": [
    "### All Kraken Virsues"
   ]
  },
  {
   "cell_type": "markdown",
   "metadata": {},
   "source": [
    "I'm going to map all of the reads to the list of viruses that have more than 500 reads assigned to them and see what comes of it. It'll be quicker this way to interrogate potentially full genomes."
   ]
  },
  {
   "cell_type": "code",
   "execution_count": null,
   "metadata": {
    "collapsed": true
   },
   "outputs": [],
   "source": [
    "cd /scratch/at120/brugia-rnaseq/brugia_viral_search/all-kraken-viruses\n",
    "\n",
    "cat /scratch/at120/shared/db/kraken/standard/library/Viruses/*/*fna > all-kraken-seqs.fasta\n",
    "\n",
    "bowtie2-build all-kraken-seqs.fasta all-kraken-seqs.fasta\n",
    "bowtie2 \\\n",
    "-p 12 \\\n",
    "--very-sensitive-local \\\n",
    "--un-conc unconc.fastq \\\n",
    "-x all-kraken-seqs.fasta \\\n",
    "-1 all-unmapped.r1.viral.pe.fastq \\\n",
    "-2 all-unmapped.r2.viral.pe.fastq \\\n",
    "-S all-kraken-seqs.sam\n",
    "\n",
    "samtools view -b -o all-kraken-seqs.bam  all-kraken-seqs.sam\n",
    "samtools sort -o all-kraken-seqs.sort.bam all-kraken-seqs.bam\n",
    "samtools index all-kraken-seqs.bam"
   ]
  },
  {
   "cell_type": "markdown",
   "metadata": {},
   "source": [
    "The top 15 of these all had a 100bp region where a lot of reads mapped, nothing fruitful other than that."
   ]
  },
  {
   "cell_type": "markdown",
   "metadata": {},
   "source": [
    "### LMAT"
   ]
  },
  {
   "cell_type": "markdown",
   "metadata": {},
   "source": [
    "Since kraken failed pretty miserably in providing any decent results, I'm going to give Kraken a try to see if that does any better at providing me a frame of reference for finding viruses."
   ]
  },
  {
   "cell_type": "code",
   "execution_count": null,
   "metadata": {
    "collapsed": true
   },
   "outputs": [],
   "source": []
  },
  {
   "cell_type": "markdown",
   "metadata": {},
   "source": [
    "## All Brugia Runs"
   ]
  },
  {
   "cell_type": "markdown",
   "metadata": {},
   "source": [
    "### Filter Reads"
   ]
  },
  {
   "cell_type": "code",
   "execution_count": null,
   "metadata": {
    "collapsed": true
   },
   "outputs": [],
   "source": [
    "cd /scratch/at120/brugia-rnaseq/brugia_viral_search/all-runs\n",
    "\n",
    "cat /data/cgsb/gencore/out/Ghedin/2014-08-12_HAAULADXX/*R1* > all-r1.fastq.gz\n",
    "cat /data/cgsb/gencore/out/Ghedin/2014-08-12_HAAULADXX/*R2* > all-r2.fastq.gz\n",
    "cat /data/cgsb/gencore/out/Ghedin/2015-03-24_H2V3NBCXX/*/*n01* >> all-r1.fastq.gz\n",
    "cat /data/cgsb/gencore/out/Ghedin/2015-03-24_H2V3NBCXX/*/*n02* >> all-r2.fastq.gz\n",
    "cat /data/cgsb/gencore/out/Ghedin/2015-10-06_H5KNLBGXX/combined/*n01* >> all-r1.fastq.gz\n",
    "cat /data/cgsb/gencore/out/Ghedin/2015-10-06_H5KNLBGXX/combined/*n02* >> all-r2.fastq.gz\n",
    "\n",
    "qsub -v path=/scratch/at120/brugia-rnaseq/brugia_viral_search,fastq=all ../run-tophat.sh"
   ]
  },
  {
   "cell_type": "markdown",
   "metadata": {},
   "source": [
    "This took WAY too long so I used the filter script seen here:"
   ]
  },
  {
   "cell_type": "code",
   "execution_count": null,
   "metadata": {
    "collapsed": true
   },
   "outputs": [],
   "source": [
    "cd /scratch/at120/brugia-rnaseq/brugia_viral_search/filtered-data\n",
    "\n",
    "qsub -v fastq=all ../scripts/filter-brugia.sh"
   ]
  },
  {
   "cell_type": "markdown",
   "metadata": {},
   "source": [
    "Since there was a lot of adaptor readthrough I will run Trimmomatic on these data (see below section \"weird looking reads\").\n",
    "\n",
    "The adaptor sequences I used are:\n",
    "GATCGGAAGAGCGTCGTGTAGGGAAAGAGTGTAGATCTCGGTGGTCGCCGTATCATT\n",
    "GATCGGAAGAGCACACGTCTGAACTCCAGTCAC\n",
    "ATCTCGTATGCCGTCTTCTGCTTG"
   ]
  },
  {
   "cell_type": "code",
   "execution_count": null,
   "metadata": {
    "collapsed": true,
    "run_control": {
     "marked": false
    }
   },
   "outputs": [],
   "source": [
    "module load trimmomatic\n",
    "\n",
    "cd /scratch/at120/brugia-rnaseq/brugia_viral_search/filtered-data/trimmed\n",
    "\n",
    "java -jar /share/apps/trimmomatic/0.32/trimmomatic-0.32.jar \\\n",
    "PE \\\n",
    "all.non-rRNA.deconseq_clean.r1.fastq \\\n",
    "all.non-rRNA.deconseq_clean.r2.fastq \\\n",
    "all.non-rRNA.deconseq_clean.trimmed.r1.fastq \\\n",
    "all.non-rRNA.deconseq_clean.trimmed.se.r1.fastq \\\n",
    "all.non-rRNA.deconseq_clean.trimmed.r2.fastq \\\n",
    "all.non-rRNA.deconseq_clean.trimmed.se.r2.fastq \\\n",
    "ILLUMINACLIP:adaptors.fa:2:30:10 \\\n",
    "LEADING:3 \\\n",
    "TRAILING:3 \\\n",
    "SLIDINGWINDOW:4:15 \\\n",
    "MINLEN:28 "
   ]
  },
  {
   "cell_type": "markdown",
   "metadata": {},
   "source": [
    "Lots of data thrown out, which was expected after looking at the reads.\n",
    "\n",
    "Input Read Pairs: 11942310 Both Surviving: 491434 (4.12%) Forward Only Surviving: 47105 (0.39%) Reverse Only Surviving: 19382 (0.16%) Dropped: 11384389 (95.33%)"
   ]
  },
  {
   "cell_type": "markdown",
   "metadata": {},
   "source": [
    "### LMAT"
   ]
  },
  {
   "cell_type": "markdown",
   "metadata": {},
   "source": [
    "Since Kraken didn't do well on the individual run I decided to give LMAT a shot since it has much more breadth in terms of search space. Just followed the tutorial off the bat to see what comes of this.\n",
    "\n",
    "https://sourceforge.net/p/lmat/wiki/Example%20LMAT%20Run/"
   ]
  },
  {
   "cell_type": "markdown",
   "metadata": {},
   "source": [
    "Example input data once the reads are merged together and <= q10 bases are masked:\n",
    "\n",
    "-bash-4.1$ head all.non-rRNA.deconseq_clean.merged.q10.fasta\n",
    ">HWI-ST911:229:HAAULADXX:2:2205:15612:20318 1:N:0:CGCTGT\n",
    "GATCGGAAGAGCACACGTCTGAACTNCAGTCACCGATGTATCTNNTATGCCGTCTTCNGNTNNAAAAAAAANNNNTAANANGTTNNNNNGACNNNANNNTNNGNNANGNNNAGGGGNNNGNNNNGGNANNGNNNNNNATTNCGNNNNCNNNNGNNNNTTTAAAAAANNNNNNANCNACAGCNCAANTTGANNNNNTNGANNNC\n",
    ">HWI-ST911:252:H2V3NBCXX:1:1111:8969:23340 1:N:0:ACAGTG\n",
    "GATCGGAAGAGCACACGTCTGAACTCCAGTCACACAGTGATCTCGTATGCCGTCTTCTGCTTGAAAAAAAAAAACGAGCACACCCACTACGACCCGAAAAATTGTCAACCACACCCCAGCAGGCCCAGATCTGAATATCATACCACCTAAANGATCGGAAGAGCGTCGTGTAGGGAAAGAGTGTAGATCTCGGTGGTCGCCGTATCATTAAAAAAAAAAAAGCGACAAGGCAATCACGCCCCGTGGCCCCCATTGAATGACAAGAAAGGCCTGTCCATAACATAAAAGACCGGATTACAGGCT\n",
    ">HWI-ST911:229:HAAULADXX:1:1105:13220:76584 1:N:0:TTAGGC\n",
    "GATCGGAAGAGCACACGTCTGAACTCCAGTCACTTAGGCATCTCGTATGCCGTCTTCTGCTTGNAAANANANNNNANANANNCGNTNNTAGNNNNNNTNATNGANNNNNANANNNNNCNNNCGNGGAANNNNAGNNNNNNCGGGNNNNNNNNNNNCNNNTNAAAAAANAAANNNNNNNNNNNNNCNNCNTCNNNATNNNANNN\n",
    ">HWI-ST911:252:H2V3NBCXX:2:1107:14691:5102 1:N:0:ACAGTG\n",
    "GATCGGAAGAGCACACGTCTGAACTCCAGTCACACAGTGATCTCGTATGCCGTCTTCTGCTTGAAAAAAAAAAACATACACAAACTAACAAATAAGAATCAAACATAAAAACACAACAATAACATAAAAAACAAACAAAAAAAAAAAACCANGATCGGAAGAGCGTCGTGGTAGGGAAAGAGTGTAGATCTCGGTGGTCGCCGTATCATTAAAAAAAAAAAACAAAAGAAAAAAACAGCGACAATATACAAGAAACACAAAGAATCTAGCATAAAAACAAGCAGAATCTACACACACACGAAG\n",
    ">HWI-ST911:229:HAAULADXX:1:2114:10038:59705 1:N:0:ATCACG\n",
    "GATCGGAAGAGCACACGTCTGAACTCCAGTCACATCACGATCTCGTATGCCGTCTTCTGCTTGAAAAAAAAAANNNNNNNNANNNNNGNNNAAGGNNCNGANGNTCNGNANANNGNNNNNTTGGGGAANNNNGNNNNNNNCNGNNGGNNNNNNNNNCNTNNAAAAAAAAAAAANNNANANNNNNAGNNNNNNNNNNANNCNNN\n",
    "\n",
    "If there are a lot of N's then they were most likely marked as \"read too short\""
   ]
  },
  {
   "cell_type": "code",
   "execution_count": null,
   "metadata": {
    "collapsed": true
   },
   "outputs": [],
   "source": [
    "module load lmat\n",
    "module load seqtk\n",
    "\n",
    "cd /scratch/at120/brugia-rnaseq/brugia_viral_search/lmat\n",
    "\n",
    "merge_fastq_reads_with_N_separator.pl all.non-rRNA.deconseq_clean.r1.fastq all.non-rRNA.deconseq_clean.r2.fastq all.non-rRNA.deconseq_clean.merged.fastq\n",
    "\n",
    "seqtk seq -A -q 10 -n N all.non-rRNA.deconseq_clean.merged.fastq all.non-rRNA.deconseq_clean.merged.q10.fasta\n",
    "\n",
    "run_rl.sh \\\n",
    "--db_file=/scratch/work/public/gen-data/lmat/runtime_inputs/kML+Human.v4-14.20.g10.db \\\n",
    "--query_file=all.non-rRNA.deconseq_clean.merged.q10.fasta"
   ]
  },
  {
   "cell_type": "markdown",
   "metadata": {},
   "source": [
    "#### Viral reads from LMAT:\n",
    "\n",
    "-bash-4.1$ grep -i 'virus' all.non-rRNA.deconseq_clean.merged.q10.fasta.kML+Human.v4-14.20.g10.db.lo.rl_output.0.30.fastsummary.species\n",
    "\n",
    "Average Read Score      Total Read Score        Read Count      TaxID   Name    Strain Info\n",
    "1.5235  6.09389 4       12321   Alfalfa mosaic virus\n",
    "0.7169  2.15073 3       11830   Murine osteosarcoma virus\n",
    "0.6137  0.613687        1       42478   Saccharomyces cerevisiae virus L-BC (La)\n",
    "0.2391  0.239123        1       40051   Bluetongue virus        0.239123        1       35328   no rank,Bluetongue virus 2\n",
    "0.0869  0.0868627       1       11103   Hepatitis C virus       0.0868627       1       31647   no rank,Hepatitis C virus subtype 1b\n",
    "0.0427  0.0854622       2       39420   Feldmannia species virus\n",
    "0.0646  0.0645626       1       622416  Avian paramyxovirus 7\n",
    "0.0576  0.0576421       1       11591   Uukuniemi virus\n",
    "0.0576  0.0576421       1       36772   Subterranean clover stunt virus\n",
    "0.0282  0.0564636       2       687367  Torque teno virus 28\n",
    "0.0192  0.0384451       2       1285600 Nile crocodilepox virus\n",
    "0.0378  0.0377747       1       12287   Flock house virus\n",
    "0.0372  0.0371636       1       46607   Andes virus     0.0371636       1       69245   no rank,Lechiguanas virus\n",
    "0.0331  0.0330648       1       1235314 Megavirus lba\n",
    "0.0158  0.0157732       1       1330520 Enterovirus F   0.0157732       1       269638  no rank,Bovine enterovirus type 2\n",
    "0.0035  0.00348104      1       12461   Hepatitis E virus\n",
    "\n",
    "#### LMAT classification stats\n",
    "\n",
    "ReadTooShort    1364143\n",
    "NoDbHits        64385\n",
    "LowScore        193359"
   ]
  },
  {
   "cell_type": "markdown",
   "metadata": {},
   "source": [
    "### Kraken"
   ]
  },
  {
   "cell_type": "markdown",
   "metadata": {},
   "source": [
    "For sake of comparison and thoroughness I'm running Kraken to see if it can pick up any other viruses."
   ]
  },
  {
   "cell_type": "code",
   "execution_count": null,
   "metadata": {
    "collapsed": true
   },
   "outputs": [],
   "source": [
    "module load kraken\n",
    "\n",
    "cd /scratch/at120/brugia-rnaseq/brugia_viral_search/kraken-data\n",
    "\n",
    "kraken --db /scratch/at120/shared/db/kraken/standard --fastq-input --threads 12 --output all.non-rRNA.deconseq_clean.kraken.out --preload --unclassified-out all.non-rRNA.deconseq_clean.kraken.u\n",
    "nclassified.fastq all.non-rRNA.deconseq_clean.fastq"
   ]
  },
  {
   "cell_type": "markdown",
   "metadata": {},
   "source": [
    "23884620 sequences (2670.89 Mbp) processed in 2176.171s (658.5 Kseq/m, 73.64 Mbp/m).\n",
    "10829641 sequences classified (45.34%)\n",
    "13054979 sequences unclassified (54.66%)"
   ]
  },
  {
   "cell_type": "markdown",
   "metadata": {},
   "source": [
    "#### Kraken viruses"
   ]
  },
  {
   "cell_type": "markdown",
   "metadata": {},
   "source": [
    "A lot of overlap with the unfiltered data though the counts are significantly less.\n",
    "\n",
    "d__Viruses|f__Microviridae|g__Microvirus|s__Enterobacteria_phage_phiX174_sensu_lato\t2227\n",
    "d__Viruses|o__Picornavirales|f__Dicistroviridae|s__Formica_exsecta_virus_1\t869\n",
    "d__Viruses|f__Partitiviridae|g__Betapartitivirus|s__Pleurotus_ostreatus_virus_1\t290\n",
    "d__Viruses|f__Partitiviridae|g__Betapartitivirus|s__Hop_trefoil_cryptic_virus_2\t287\n",
    "d__Viruses|f__Partitiviridae|s__Dill_cryptic_virus_1\t259\n",
    "d__Viruses|s__Saccharomyces_cerevisiae_killer_virus_M1\t190\n",
    "d__Viruses|f__Flaviviridae|g__Hepacivirus|s__Hepatitis_C_virus\t187\n",
    "d__Viruses|f__Partitiviridae|g__Betapartitivirus|s__Dill_cryptic_virus_2\t142\n",
    "d__Viruses|o__Tymovirales|f__Tymoviridae|g__Tymovirus|s__Dulcamara_mottle_virus\t139\n",
    "d__Viruses|f__Partitiviridae|g__Alphapartitivirus|s__Rosellinia_necatrix_partitivirus_2\t127\n",
    "d__Viruses|f__Partitiviridae|g__Betapartitivirus|s__Red_clover_cryptic_virus_2\t122\n",
    "d__Viruses|f__Partitiviridae|g__Alphapartitivirus|s__Vicia_cryptic_virus\t122\n",
    "d__Viruses|f__Polydnaviridae|g__Bracovirus|s__Cotesia_congregata_bracovirus\t108\n",
    "d__Viruses|f__Partitiviridae|g__Betapartitivirus|s__White_clover_cryptic_virus_2\t79\n",
    "d__Viruses|f__Partitiviridae|g__Betapartitivirus|s__Primula_malacoides_virus_1\t66\n",
    "d__Viruses|s__Pandoravirus_dulcis\t65\n",
    "d__Viruses|o__Caudovirales|f__Myoviridae|s__Enterobacteria_phage_4MG\t65\n",
    "d__Viruses|f__Partitiviridae|s__Red_clover_cryptic_virus_1\t62\n",
    "d__Viruses|o__Picornavirales|f__Picornaviridae|g__Senecavirus|s__Senecavirus_A\t56\n",
    "d__Viruses|o__Herpesvirales|f__Herpesviridae|s__Caviid_herpesvirus_2\t49\n",
    "d__Viruses|f__Anelloviridae|g__Gammatorquevirus|s__Torque_teno_midi_virus_2\t45\n",
    "d__Viruses|f__Astroviridae|g__Mamastrovirus|s__Porcine_astrovirus_2\t40\n",
    "d__Viruses|o__Picornavirales|f__Picornaviridae|s__Fathead_minnow_picornavirus\t32\n",
    "d__Viruses|o__Caudovirales|f__Myoviridae|g__Spounalikevirus|s__Bacillus_phage_SPO1\t27\n",
    "d__Viruses|f__Baculoviridae|g__Deltabaculovirus|s__Culex_nigripalpus_nucleopolyhedrovirus\t26\n",
    "d__Viruses|o__Caudovirales|f__Myoviridae|s__Cronobacter_phage_vB_CsaM_GAP31\t24\n",
    "d__Viruses|f__Bromoviridae|g__Bromovirus|s__Spring_beauty_latent_virus\t22\n",
    "d__Viruses|s__Pandoravirus_salinus\t19\n",
    "d__Viruses|o__Caudovirales|f__Myoviridae|s__Salmonella_phage_PVP-SE1\t18\n",
    "d__Viruses|f__Retroviridae|g__Gammaretrovirus|s__Murine_osteosarcoma_virus\t16\n",
    "d__Viruses|o__Caudovirales|f__Siphoviridae|s__Vibrio_phage_SHOU24\t15\n",
    "d__Viruses|f__Phycodnaviridae|s__Aureococcus_anophagefferens_virus\t12\n",
    "d__Viruses|o__Herpesvirales|f__Alloherpesviridae|g__Cyprinivirus|s__Cyprinid_herpesvirus_2\t11\n",
    "d__Viruses|o__Tymovirales|f__Betaflexiviridae|g__Carlavirus|s__Garlic_common_latent_virus\t10\n",
    "d__Viruses|o__Tymovirales|f__Alphaflexiviridae|g__Sclerodarnavirus|s__Sclerotinia_sclerotiorum_debilitation-associated_RNA_virus\t10\n",
    "d__Viruses|o__Herpesvirales|s__Abalone_herpesvirus_Victoria/AUS/2009\t10\n",
    "d__Viruses|o__Herpesvirales|f__Herpesviridae|g__Macavirus|s__Bovine_herpesvirus_6\t10\n",
    "d__Viruses|s__Phytophthora_infestans_RNA_virus_1\t9\n",
    "d__Viruses|g__Tenuivirus|s__Rice_grassy_stunt_virus\t9\n",
    "d__Viruses|o__Herpesvirales|f__Herpesviridae|g__Simplexvirus|s__Macacine_herpesvirus_1\t8\n",
    "d__Viruses|o__Herpesvirales|f__Herpesviridae|g__Roseolovirus|s__Human_herpesvirus_6B\t8\n",
    "d__Viruses|f__Retroviridae|s__Human_endogenous_retrovirus_K\t8\n",
    "d__Viruses|f__Partitiviridae|s__Sclerotinia_sclerotiorum_partitivirus_S\t8\n",
    "d__Viruses|f__Papillomaviridae|g__Lambdapapillomavirus|s__Lambdapapillomavirus_2\t8\n",
    "d__Viruses|f__Orthomyxoviridae|g__Influenzavirus_A|s__Influenza_A_virus\t8\n",
    "d__Viruses|f__Bromoviridae|g__Alfamovirus|s__Alfalfa_mosaic_virus\t8\n",
    "d__Viruses|o__Caudovirales|s__Sinorhizobium_phage_PBC5\t7\n",
    "d__Viruses|f__Virgaviridae|g__Tobamovirus|s__Hibiscus_latent_Singapore_virus\t7\n",
    "d__Viruses|f__Nudiviridae|s__Oryctes_rhinoceros_nudivirus\t7\n",
    "d__Viruses|f__Baculoviridae|g__Alphabaculovirus|s__Choristoneura_rosaceana_alphabaculovirus\t7\n",
    "d__Viruses|s__Gentian_ovary_ring-spot_virus\t6\n",
    "d__Viruses|o__Picornavirales|f__Picornaviridae|g__Kobuvirus|s__Mouse_kobuvirus_M-5/USA/2010\t6\n",
    "d__Viruses|o__Picornavirales|f__Picornaviridae|g__Cardiovirus|s__Encephalomyocarditis_virus\t6\n",
    "d__Viruses|o__Herpesvirales|f__Alloherpesviridae|g__Cyprinivirus|s__Cyprinid_herpesvirus_1\t6\n",
    "d__Viruses|f__Togaviridae|g__Alphavirus|s__Chikungunya_virus\t6\n",
    "d__Viruses|f__Adenoviridae|g__Aviadenovirus|s__Fowl_aviadenovirus_B\t6\n",
    "d__Viruses|s__Andrographis_yellow_vein_leaf_curl_betasatellite\t5\n",
    "d__Viruses|o__Picornavirales|f__Dicistroviridae|s__Mud_crab_dicistrovirus\t5\n",
    "d__Viruses|o__Herpesvirales|f__Herpesviridae|g__Mardivirus|s__Gallid_herpesvirus_2\t5\n",
    "d__Viruses|o__Picornavirales|f__Picornaviridae|s__Eel_picornavirus_1\t4\n",
    "d__Viruses|o__Herpesvirales|f__Herpesviridae|g__Simplexvirus|s__Cercopithecine_herpesvirus_2\t4\n",
    "d__Viruses|o__Herpesvirales|f__Herpesviridae|g__Muromegalovirus|s__Murid_herpesvirus_8\t4\n",
    "d__Viruses|o__Herpesvirales|f__Herpesviridae|g__Mardivirus|s__Gallid_herpesvirus_3\t4\n",
    "d__Viruses|f__Bunyaviridae|g__Tospovirus|s__Impatiens_necrotic_spot_virus\t4\n",
    "d__Viruses|f__Adenoviridae|g__Mastadenovirus|s__Human_mastadenovirus_C\t4\n",
    "d__Viruses|f__Adenoviridae|g__Aviadenovirus|s__Fowl_aviadenovirus_E\t4\n",
    "d__Viruses|s__Vernonia_yellow_vein_Fujian_virus_betasatellite\t3\n",
    "d__Viruses|s__Jingmen_tick_virus\t3\n",
    "d__Viruses|s__Alternaria_alternata_virus_1\t3\n",
    "d__Viruses|s__Ageratum_yellow_vein_Singapore_alphasatellite\t3\n",
    "d__Viruses|o__Picornavirales|s__Carp_picornavirus_1\t3\n",
    "d__Viruses|o__Herpesvirales|f__Alloherpesviridae|g__Cyprinivirus|s__Cyprinid_herpesvirus_3\t3\n",
    "d__Viruses|o__Herpesvirales|f__Alloherpesviridae|g__Cyprinivirus|s__Anguillid_herpesvirus_1\t3\n",
    "d__Viruses|o__Caudovirales|f__Podoviridae|g__T7likevirus|s__Enterobacteria_phage_T7\t3\n",
    "d__Viruses|f__Polydnaviridae|g__Ichnovirus|s__Glypta_fumiferanae_ichnovirus\t3\n",
    "d__Viruses|f__Phycodnaviridae|g__Prymnesiovirus|s__Phaeocystis_globosa_virus\t3\n",
    "d__Viruses|f__Iridoviridae|g__Iridovirus|s__Invertebrate_iridescent_virus_6\t3\n",
    "d__Viruses|f__Flaviviridae|g__Flavivirus|s__Tick-borne_encephalitis_virus\t3\n",
    "d__Viruses|f__Bunyaviridae|g__Orthobunyavirus|s__Simbu_virus\t3\n",
    "d__Viruses|f__Baculoviridae|g__Betabaculovirus|s__Choristoneura_occidentalis_granulovirus\t3\n",
    "d__Viruses|f__Baculoviridae|g__Alphabaculovirus|s__Spodoptera_litura_nucleopolyhedrovirus\t3\n",
    "d__Viruses|s__Posavirus_1\t2\n",
    "d__Viruses|s__McMurdo_Ice_Shelf_pond-associated_circular_DNA_virus-8\t2\n",
    "d__Viruses|s__Halovirus_HRTV-8\t2\n",
    "d__Viruses|o__Nidovirales|f__Coronaviridae|g__Bafinivirus|s__White_bream_virus\t2\n",
    "d__Viruses|o__Herpesvirales|f__Herpesviridae|g__Varicellovirus|s__Bovine_herpesvirus_1\t2\n",
    "d__Viruses|o__Herpesvirales|f__Herpesviridae|g__Simplexvirus|s__Papiine_herpesvirus_2\t2\n",
    "d__Viruses|o__Herpesvirales|f__Herpesviridae|g__Rhadinovirus|s__Human_herpesvirus_8\t2\n",
    "d__Viruses|o__Caudovirales|f__Siphoviridae|s__Lactococcus_phage_phiL47\t2\n",
    "d__Viruses|o__Caudovirales|f__Siphoviridae|s__Lactococcus_phage_phi7\t2\n",
    "d__Viruses|o__Caudovirales|f__Myoviridae|s__Bacillus_phage_CampHawk\t2\n",
    "d__Viruses|o__Caudovirales|f__Myoviridae|g__Phikzlikevirus|s__Pseudomonas_phage_EL\t2\n",
    "d__Viruses|g__Emaravirus|s__Rose_rosette_virus\t2\n",
    "d__Viruses|f__Totiviridae|g__Totivirus|s__Saccharomyces_cerevisiae_virus_L-BC_(La)\t2\n",
    "d__Viruses|f__Retroviridae|g__Alpharetrovirus|s__Rous_sarcoma_virus\t2\n",
    "d__Viruses|f__Poxviridae|g__Capripoxvirus|s__Sheeppox_virus\t2\n",
    "d__Viruses|f__Polyomaviridae|g__Polyomavirus|s__Simian_virus_40\t2\n",
    "d__Viruses|f__Phycodnaviridae|g__Chlorovirus|s__Paramecium_bursaria_Chlorella_virus_NY2A\t2\n",
    "d__Viruses|f__Phycodnaviridae|g__Chlorovirus|s__Acanthocystis_turfacea_Chlorella_virus_1\t2\n",
    "d__Viruses|f__Partitiviridae|s__Rhizoctonia_solani_dsRNA_virus_2\t2\n",
    "d__Viruses|f__Papillomaviridae|g__Alphapapillomavirus|s__Alphapapillomavirus_3\t2\n",
    "d__Viruses|f__Nudiviridae|s__Heliothis_zea_nudivirus\t2\n",
    "d__Viruses|f__Nodaviridae|g__Alphanodavirus|s__Black_beetle_virus\t2\n",
    "d__Viruses|f__Microviridae|g__Microvirus|s__Enterobacteria_phage_G4_sensu_lato\t2\n",
    "d__Viruses|f__Hepeviridae|s__Bat_hepevirus\t2\n",
    "d__Viruses|f__Chrysoviridae|g__Chrysovirus|s__Amasya_cherry_disease_associated_chrysovirus\t2\n",
    "d__Viruses|f__Caulimoviridae|g__Badnavirus|s__Sweet_potato_badnavirus_A\t2\n",
    "d__Viruses|f__Caliciviridae|s__St-Valerien_swine_virus\t2\n",
    "d__Viruses|f__Bunyaviridae|g__Tospovirus|s__Melon_yellow_spot_virus\t2\n",
    "d__Viruses|f__Adenoviridae|g__Aviadenovirus|s__Fowl_aviadenovirus_A\t2\n",
    "d__Viruses|s__Tomato_yellow_leaf_curl_Vietnam_betasatellite\t1\n",
    "d__Viruses|s__Tomato_begomovirus_satellite_DNA_beta\t1\n",
    "d__Viruses|s__Tobacco_leaf_curl_disease_associated_sequence\t1\n",
    "d__Viruses|s__Papaya_leaf_curl_alphasatellite\t1\n",
    "d__Viruses|s__Croton_yellow_vein_mosaic_alphasatellite\t1\n",
    "d__Viruses|o__Tymovirales|s__Sclerotinia_sclerotiorum_debilitation-associated_RNA_virus_2\t1\n",
    "d__Viruses|o__Picornavirales|f__Secoviridae|g__Nepovirus|s__Grapevine_Bulgarian_latent_virus\t1\n",
    "d__Viruses|o__Picornavirales|f__Picornaviridae|g__Enterovirus|s__Enterovirus_H\t1\n",
    "d__Viruses|o__Picornavirales|f__Picornaviridae|g__Cardiovirus|s__Theilovirus\t1\n",
    "d__Viruses|o__Picornavirales|f__Picornaviridae|g__Aquamavirus|s__Aquamavirus_A\t1\n",
    "d__Viruses|o__Herpesvirales|f__Herpesviridae|g__Roseolovirus|s__Human_herpesvirus_7\t1\n",
    "d__Viruses|o__Herpesvirales|f__Herpesviridae|g__Roseolovirus|s__Human_herpesvirus_6A\t1\n",
    "d__Viruses|o__Herpesvirales|f__Herpesviridae|g__Mardivirus|s__Falconid_herpesvirus_1\t1\n",
    "d__Viruses|o__Herpesvirales|f__Herpesviridae|g__Macavirus|s__Ovine_herpesvirus_2\t1\n",
    "d__Viruses|o__Herpesvirales|f__Herpesviridae|g__Cytomegalovirus|s__Saimiriine_herpesvirus_4\t1\n",
    "d__Viruses|o__Caudovirales|f__Siphoviridae|s__Propionibacterium_phage_PHL114L00\t1\n",
    "d__Viruses|o__Caudovirales|f__Siphoviridae|s__Propionibacterium_phage_PHL113M01\t1\n",
    "d__Viruses|o__Caudovirales|f__Siphoviridae|s__Propionibacterium_phage_P101A\t1\n",
    "d__Viruses|o__Caudovirales|f__Siphoviridae|s__Propionibacterium_phage_P100_A\t1\n",
    "d__Viruses|o__Caudovirales|f__Siphoviridae|g__Lambdalikevirus|s__Enterobacterial_phage_mEp390\t1\n",
    "d__Viruses|o__Caudovirales|f__Siphoviridae|g__Lambdalikevirus|s__Enterobacteria_phage_lambda\t1\n",
    "d__Viruses|o__Caudovirales|f__Myoviridae|s__Streptococcus_phage_EJ-1\t1\n",
    "d__Viruses|g__Bacilladnavirus|s__Chaetoceros_lorenzianus_DNA_virus\t1\n",
    "d__Viruses|f__Virgaviridae|g__Tobamovirus|s__Hibiscus_latent_Fort_Pierce_virus\t1\n",
    "d__Viruses|f__Virgaviridae|g__Hordeivirus|s__Barley_stripe_mosaic_virus\t1\n",
    "d__Viruses|f__Togaviridae|g__Alphavirus|s__Ndumu_virus\t1\n",
    "d__Viruses|f__Tectiviridae|g__Tectivirus|s__Bacillus_phage_Wip1\t1\n",
    "d__Viruses|f__Poxviridae|g__Capripoxvirus|s__Goatpox_virus\t1\n",
    "d__Viruses|f__Poxviridae|g__Betaentomopoxvirus|s__Choristoneura_biennis_entomopoxvirus_'L'\t1\n",
    "d__Viruses|f__Poxviridae|g__Betaentomopoxvirus|s__Amsacta_moorei_entomopoxvirus_'L'\t1\n",
    "d__Viruses|f__Potyviridae|g__Potyvirus|s__Wild_potato_mosaic_virus\t1\n",
    "d__Viruses|f__Potyviridae|g__Potyvirus|s__Chilli_ringspot_virus\t1\n",
    "d__Viruses|f__Partitiviridae|g__Alphapartitivirus|s__Beet_cryptic_virus_1\t1\n",
    "d__Viruses|f__Orthomyxoviridae|g__Isavirus|s__Infectious_salmon_anemia_virus\t1\n",
    "d__Viruses|f__Mimiviridae|s__Moumouvirus\t1\n",
    "d__Viruses|f__Microviridae|g__Microvirus|s__Enterobacteria_phage_ID2_Moscow/ID/2001\t1\n",
    "d__Viruses|f__Microviridae|g__Microvirus|s__Enterobacteria_phage_ID18_sensu_lato\t1\n",
    "d__Viruses|f__Iridoviridae|g__Iridovirus|s__Invertebrate_iridescent_virus_31\t1\n",
    "d__Viruses|f__Hytrosaviridae|g__Glossinavirus|s__Glossina_hytrovirus\t1\n",
    "d__Viruses|f__Hypoviridae|g__Hypovirus|s__Cryphonectria_hypovirus_1\t1\n",
    "d__Viruses|f__Chrysoviridae|g__Chrysovirus|s__Magnaporthe_oryzae_chrysovirus_1\t1\n",
    "d__Viruses|f__Bunyaviridae|g__Tospovirus|s__Tomato_spotted_wilt_virus\t1\n",
    "d__Viruses|f__Bunyaviridae|g__Orthobunyavirus|s__Shamonda_virus\t1\n",
    "d__Viruses|f__Bunyaviridae|g__Orthobunyavirus|s__Brazoran_virus\t1\n",
    "d__Viruses|f__Baculoviridae|g__Betabaculovirus|s__Cryptophlebia_leucotreta_granulovirus\t1\n",
    "d__Viruses|f__Baculoviridae|g__Alphabaculovirus|s__Autographa_californica_multiple_nucleopolyhedrovirus\t1"
   ]
  },
  {
   "cell_type": "markdown",
   "metadata": {},
   "source": [
    "### Blast"
   ]
  },
  {
   "cell_type": "markdown",
   "metadata": {},
   "source": [
    "Last but not least, a blast run to see if the kmer based classifiers are missing anything"
   ]
  },
  {
   "cell_type": "code",
   "execution_count": null,
   "metadata": {
    "collapsed": true
   },
   "outputs": [],
   "source": [
    "module load blast+\n",
    "\n",
    "cd /scratch/at120/brugia-rnaseq/brugia_viral_search/blast\n",
    "\n",
    "blastn \\\n",
    "-num_threads 12 \\\n",
    "-db /scratch/at120/shared/db/blast/nt/nt \\\n",
    "-query all.non-rRNA.deconseq_clean.fasta \\\n",
    "-out all.non-rRNA.deconseq_clean.blast.xml \\\n",
    "-outfmt 5 \\\n",
    "-max_target_seqs 1 \\\n",
    "-culling_limit 2 \\\n",
    "-evalue 0.05"
   ]
  },
  {
   "cell_type": "markdown",
   "metadata": {},
   "source": [
    "Going to blast the trimmed data as well (the only relevant data)."
   ]
  },
  {
   "cell_type": "code",
   "execution_count": null,
   "metadata": {
    "collapsed": true
   },
   "outputs": [],
   "source": [
    "module load blast+ \n",
    "module load bioperl\n",
    "\n",
    "cd /scratch/at120/brugia-rnaseq/brugia_viral_search/blast/trimmed\n",
    "\n",
    "perl ../../scripts/1line-fasta.pl all-filtered-trimmed.fastq > all-filtered-trimmed.fasta\n",
    "\n",
    "blastn \\\n",
    "-num_threads 20 \\\n",
    "-db /scratch/at120/shared/db/blast/nt/nt \\\n",
    "-query all-filtered-trimmed.fasta \\\n",
    "-out all-filtered-trimmed.blast.xml \\\n",
    "-outfmt 5 \\\n",
    "-max_target_seqs 1 \\\n",
    "-culling_limit 2 \\\n",
    "-evalue 0.05"
   ]
  },
  {
   "cell_type": "markdown",
   "metadata": {},
   "source": [
    "### Weird looking reads"
   ]
  },
  {
   "cell_type": "markdown",
   "metadata": {},
   "source": [
    "Almost all of the r1 reads have a conserved sequenced on the 5' followed by a poly(A) as seen below. I'm assuming there's some adapter readthrough here, which may explain the majority of the \"synthetic construct\" classified. Also may explain why there's so little classification for viruses (since I'm assuming it's assigning one match per read, which only makes sense), but then again there shouldn't be a poly(A) in a virus, right?\n",
    "\n",
    "-bash-4.1$ head all.non-rRNA.deconseq_clean.r?.fastq\n",
    "==> all.non-rRNA.deconseq_clean.r1.fastq <==\n",
    "@HWI-ST911:229:HAAULADXX:2:2205:15612:20318 1:N:0:CGCTGT\n",
    "<span class=\"burk\">GATCGGAAGAGCACACGTCTGAACTACAGTCACCGATGTATCTCGTATGCCGTCTTCTGATTGAAAAAAAAAAA</span>CTAACAAGTTGACGGGACAAAAAAATA\n",
    "+\n",
    "B<0<BB<BFFBFFB<<BB<FF<BBB'BBF7FFBBFFBFFI<B0''00<F7BB<0BB<'7'0''0770B777''''00<'0'00<'''''070'''0'''0'\n",
    "@HWI-ST911:252:H2V3NBCXX:1:1111:8969:23340 1:N:0:ACAGTG\n",
    "GATCGGAAGAGCACACGTCTGAACTCCAGTCACACAGTGATCTCGTATGCCGTCTTCTGCTTGAAAAAAAAAAACGAGCACACCCACTACGACCCGAAAAATTGTCAACCACACCCCAGCAGGCCCAGATCTGAATATCATACCACCTAAA\n",
    "+\n",
    "GAAGAGIGGGGGAGGGGGGGAGAGGGGGG<A.A.GGGGGG<G.GAG<<GGI<<GAAGGAGAA.AGGGAAAGAG.<...<<<GA.<<<<G.<AA.<.<<......<.<<<<G<...<...<....<...<.<..<<<A..<.<...77..<.\n",
    "@HWI-ST911:229:HAAULADXX:1:1105:13220:76584 1:N:0:TTAGGC\n",
    "GATCGGAAGAGCACACGTCTGAACTCCAGTCACTTAGGCATCTCGTATGCCGTCTTCTGCTTGAAAACAAAAAGTAGAAAAGCGTTTATAGCGACGATGAT\n",
    "\n",
    "==> all.non-rRNA.deconseq_clean.r2.fastq <==\n",
    "@HWI-ST911:229:HAAULADXX:2:2205:15612:20318 2:N:0:CGCTGT\n",
    "GAAATGCAGAGGGGGGGGGAGGGGAAGAGGGGATTATTCCGGTGGCGCGCGGGATTTT<span class=\"burk\">AAAAAAAAAAAAA</span>GCAACAGCACAAGTTGATTATGTCGACAAC\n",
    "+\n",
    "0''0'0'''00007'''7''''00'0''0''''''007'00''''0''''0''''0007<7<<<''''''0'0'07077'000'0707'''''0'00'''0\n",
    "@HWI-ST911:252:H2V3NBCXX:1:1111:8969:23340 2:N:0:ACAGTG\n",
    "GATCGGAAGAGCGTCGTGTAGGGAAAGAGTGTAGATCTCGGTGGTCGCCGTATCATTAAAAAAAAAAAAGCGACAAGGCAATCACGCCCCGTGGCCCCCATTGAATGACAAGAAAGGCCTGTCCATAACATAAAAGACCGGATTACAGGCT\n",
    "+\n",
    "AGAGAGGAA<AAG.<A.AAG.AA.<AA<AGGGGGGGGIGGAA.GGG.AG<.GGGAGGAGGAG.G.....<..<...<.....<..<..<<.<.<...<...........<.....<.<.<...<...<.....<..<........77..7.\n",
    "@HWI-ST911:229:HAAULADXX:1:1105:13220:76584 2:N:0:TTAGGC\n",
    "GAAAAGAAAAGCGGCCTCCCGGGGAACAAAAGCAAACTCGGGGGGCCCCGTGACCGTTAAAAAAACAAAACATAGGCGAATTCTACTTCCACATGATAAGA\n",
    "\n",
    "These are definitely adapters. The Illumina adaptor is:\n",
    "GATCGGAAGAGCACACGTCTGAACTCCAGTCAC[barcode]ATCTCGTATGCCGTCTTCTGCTTG\n",
    "and that's what we see.\n"
   ]
  }
 ],
 "metadata": {
  "kernelspec": {
   "display_name": "Bash",
   "language": "bash",
   "name": "bash"
  },
  "language_info": {
   "codemirror_mode": "shell",
   "file_extension": ".sh",
   "mimetype": "text/x-sh",
   "name": "bash"
  },
  "latex_envs": {
   "bibliofile": "biblio.bib",
   "cite_by": "apalike",
   "current_citInitial": 1,
   "eqLabelWithNumbers": true,
   "eqNumInitial": 0
  },
  "toc": {
   "toc_cell": false,
   "toc_number_sections": true,
   "toc_threshold": 6,
   "toc_window_display": false
  }
 },
 "nbformat": 4,
 "nbformat_minor": 0
}
