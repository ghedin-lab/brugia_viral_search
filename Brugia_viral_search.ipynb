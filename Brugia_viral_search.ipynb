{
 "cells": [
  {
   "cell_type": "markdown",
   "metadata": {
    "collapsed": true
   },
   "source": [
    "# Brugia Viral Search\n",
    "\n",
    "The goal of this analysis is to identify and hopefully assemble to some degree the viruses that are found present in the Brugia RNA-Seq data."
   ]
  },
  {
   "cell_type": "markdown",
   "metadata": {},
   "source": [
    "The first step is to run kraken on the data to identify likely viruses from the RefSeq database. Given it is limited to the RefSeq database, it is surely not comprehensive enough to be extrememly beneficial in de novo assembly, so LMAT is going to be run as well.\n",
    "\n",
    "All data for this project can be found here: /scratch/at120/brugia-rnaseq/brugia_viral_search\n",
    "Currently only working with this run: 2015-07-24_H55MKBCXX\n",
    "\n",
    "The Brugia data have been filtered out via tophat which may or may not be suffice. We will have to see"
   ]
  },
  {
   "cell_type": "markdown",
   "metadata": {},
   "source": [
    "## H55MKBCXX Run"
   ]
  },
  {
   "cell_type": "code",
   "execution_count": null,
   "metadata": {
    "collapsed": true
   },
   "outputs": [],
   "source": [
    "qsub run-kraken.sh"
   ]
  },
  {
   "cell_type": "markdown",
   "metadata": {},
   "source": [
    "Once kraken has generated output, obtaining the reads that are viral and not bactieria, arcahea, or phiX can be done with the following command"
   ]
  },
  {
   "cell_type": "code",
   "execution_count": null,
   "metadata": {
    "collapsed": true
   },
   "outputs": [],
   "source": [
    "grep 'Virus' kraken.translate.out | grep -v 'phiX' | cut -f1 > viral-read-names.txt"
   ]
  },
  {
   "cell_type": "markdown",
   "metadata": {},
   "source": [
    "Once these read names are generate the below script can be executed to extract the reads that are either: \n",
    "A) viral and not phiX based on the kraken classification\n",
    "B) not listed in the kraken output since these are \"non-Brugia/wolbachia\" reads."
   ]
  },
  {
   "cell_type": "code",
   "execution_count": null,
   "metadata": {
    "collapsed": true
   },
   "outputs": [],
   "source": [
    "python extract-viral-reads.py"
   ]
  },
  {
   "cell_type": "markdown",
   "metadata": {},
   "source": [
    "Once that's done we need to pair up the reads into pairs and orphans\n",
    "\n",
    "I need to add the functionality to original extraction script but for now I'm going to use the khmer script"
   ]
  },
  {
   "cell_type": "code",
   "execution_count": null,
   "metadata": {
    "collapsed": true
   },
   "outputs": [],
   "source": [
    "module load biopython\n",
    "python extract-paired-reads.py all-unmapped.r1.viral.fastq all-unmapped.r2.viral.fastq all-unmapped.r1.viral.pe.fastq all-unmapped.r2.viral.pe.fastq all-unmapped.viral.se.fastq"
   ]
  },
  {
   "cell_type": "markdown",
   "metadata": {},
   "source": [
    "For the first run, I'm sending it through IDBA to see if there's anything fruitful without manipulating the data (normalizing, partioning, more filtering, etc.)."
   ]
  },
  {
   "cell_type": "code",
   "execution_count": null,
   "metadata": {
    "collapsed": true
   },
   "outputs": [],
   "source": [
    "qsub -v path=/scratch/at120/brugia-rnaseq/brugia_viral_search,fasta=all-unmapped.viral.interleaved.fasta run-idba.sh"
   ]
  },
  {
   "cell_type": "markdown",
   "metadata": {},
   "source": [
    "## All Brugia Runs\n",
    "Meanwhile, I merged all the brugia sequencing runs, ran tophat and kraken and same process as before"
   ]
  },
  {
   "cell_type": "code",
   "execution_count": null,
   "metadata": {
    "collapsed": true
   },
   "outputs": [],
   "source": [
    "cd /scratch/at120/brugia-rnaseq/brugia_viral_search/all-runs\n",
    "\n",
    "cat /data/cgsb/gencore/out/Ghedin/2014-08-12_HAAULADXX/*R1* > all-r1.fastq.gz\n",
    "cat /data/cgsb/gencore/out/Ghedin/2014-08-12_HAAULADXX/*R2* > all-r2.fastq.gz\n",
    "cat /data/cgsb/gencore/out/Ghedin/2015-03-24_H2V3NBCXX/*/*n01* >> all-r1.fastq.gz\n",
    "cat /data/cgsb/gencore/out/Ghedin/2015-03-24_H2V3NBCXX/*/*n02* >> all-r2.fastq.gz\n",
    "cat /data/cgsb/gencore/out/Ghedin/2015-10-06_H5KNLBGXX/combined/*n01* >> all-r1.fastq.gz\n",
    "cat /data/cgsb/gencore/out/Ghedin/2015-10-06_H5KNLBGXX/combined/*n02* >> all-r2.fastq.gz\n",
    "\n",
    "qsub -v path=/scratch/at120/brugia-rnaseq/brugia_viral_search,fastq=all ../run-tophat.sh"
   ]
  }
 ],
 "metadata": {
  "kernelspec": {
   "display_name": "Bash",
   "language": "bash",
   "name": "bash"
  },
  "language_info": {
   "codemirror_mode": "shell",
   "file_extension": ".sh",
   "mimetype": "text/x-sh",
   "name": "bash"
  }
 },
 "nbformat": 4,
 "nbformat_minor": 0
}
