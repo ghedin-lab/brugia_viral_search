{
 "cells": [
  {
   "cell_type": "markdown",
   "metadata": {
    "collapsed": true
   },
   "source": [
    "# Brugia Viral Search\n",
    "\n",
    "The goal of this analysis is to identify and hopefully assemble to some degree the viruses that are found present in the Brugia RNA-Seq data."
   ]
  },
  {
   "cell_type": "markdown",
   "metadata": {},
   "source": [
    "The first step is to run kraken on the data to identify likely viruses from the RefSeq database. Given it is limited to the RefSeq database, it is surely not comprehensive enough to be extrememly beneficial in de novo assembly, so LMAT is going to be run as well.\n",
    "\n",
    "The Brugia data have been filtered out via tophat which may or may not be suffice. We will have to see"
   ]
  },
  {
   "cell_type": "code",
   "execution_count": null,
   "metadata": {
    "collapsed": true
   },
   "outputs": [],
   "source": [
    "#!/bin/bash\n",
    "#PBS -l walltime=24:00:00,nodes=1:ppn=20,mem=96gb\n",
    "#PBS -j oe\n",
    "#PBS -m a\n",
    "#PBS -M twaddlac@gmail.com\n",
    "\n",
    "module load kraken\n",
    "cd /scratch/at120/brugia-rnaseq/viral-search\n",
    "\n",
    "kraken --db /scratch/at120/db/kraken/standard --threads 20 --fastq-input --output all-unmapped.kraken.out --preload all-unmapped.r1.fastq all-unmapped.r2.fastq\n",
    "kraken-translate --db /scratch/at120/db/kraken/standard > kraken.translate.out\n",
    "kraken-mpa-report --db /scratch/at120/db/kraken/standard > kraken.mpa.out"
   ]
  },
  {
   "cell_type": "markdown",
   "metadata": {},
   "source": [
    "Once kraken has generated output, obtaining the reads that are viral and not bactieria, arcahea, or phiX can be done with the following command"
   ]
  },
  {
   "cell_type": "code",
   "execution_count": null,
   "metadata": {
    "collapsed": true
   },
   "outputs": [],
   "source": [
    "grep 'Virus' kraken.translate.out | grep -v 'phiX' | cut -f1 > viral-read-names.txt"
   ]
  }
 ],
 "metadata": {
  "kernelspec": {
   "display_name": "Bash",
   "language": "bash",
   "name": "bash"
  },
  "language_info": {
   "codemirror_mode": "shell",
   "file_extension": ".sh",
   "mimetype": "text/x-sh",
   "name": "bash"
  }
 },
 "nbformat": 4,
 "nbformat_minor": 0
}
