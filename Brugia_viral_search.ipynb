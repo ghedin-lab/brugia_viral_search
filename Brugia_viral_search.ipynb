{
 "cells": [
  {
   "cell_type": "markdown",
   "metadata": {
    "collapsed": true
   },
   "source": [
    "# Brugia Viral Search\n",
    "\n",
    "The goal of this analysis is to identify and hopefully assemble to some degree the viruses that are found present in the Brugia RNA-Seq data."
   ]
  },
  {
   "cell_type": "markdown",
   "metadata": {},
   "source": [
    "The first step is to run kraken on the data to identify likely viruses from the RefSeq database. Given it is limited to the RefSeq database, it is surely not comprehensive enough to be extrememly beneficial in de novo assembly, so LMAT is going to be run as well.\n",
    "\n",
    "All data for this project can be found here: /scratch/at120/brugia-rnaseq/brugia_viral_search\n",
    "Currently only working with this run: 2015-07-24_H55MKBCXX\n",
    "\n",
    "The Brugia data have been filtered out via tophat which may or may not be suffice. We will have to see"
   ]
  },
  {
   "cell_type": "markdown",
   "metadata": {},
   "source": [
    "## H55MKBCXX Run"
   ]
  },
  {
   "cell_type": "code",
   "execution_count": null,
   "metadata": {
    "collapsed": true
   },
   "outputs": [],
   "source": [
    "qsub run-kraken.sh"
   ]
  },
  {
   "cell_type": "markdown",
   "metadata": {},
   "source": [
    "Once kraken has generated output, obtaining the reads that are viral and not bactieria, arcahea, or phiX can be done with the following command"
   ]
  },
  {
   "cell_type": "code",
   "execution_count": null,
   "metadata": {
    "collapsed": true
   },
   "outputs": [],
   "source": [
    "grep 'Virus' kraken.translate.out | grep -v 'phiX' | cut -f1 > viral-read-names.txt"
   ]
  },
  {
   "cell_type": "markdown",
   "metadata": {},
   "source": [
    "Once these read names are generate the below script can be executed to extract the reads that are either: \n",
    "A) viral and not phiX based on the kraken classification\n",
    "B) not listed in the kraken output since these are \"non-Brugia/wolbachia\" reads."
   ]
  },
  {
   "cell_type": "code",
   "execution_count": null,
   "metadata": {
    "collapsed": true
   },
   "outputs": [],
   "source": [
    "python extract-viral-reads.py"
   ]
  },
  {
   "cell_type": "markdown",
   "metadata": {},
   "source": [
    "Once that's done we need to pair up the reads into pairs and orphans\n",
    "\n",
    "I need to add the functionality to original extraction script but for now I'm going to use the khmer script"
   ]
  },
  {
   "cell_type": "code",
   "execution_count": null,
   "metadata": {
    "collapsed": true
   },
   "outputs": [],
   "source": [
    "module load biopython\n",
    "python extract-paired-reads.py all-unmapped.r1.viral.fastq all-unmapped.r2.viral.fastq all-unmapped.r1.viral.pe.fastq all-unmapped.r2.viral.pe.fastq all-unmapped.viral.se.fastq"
   ]
  },
  {
   "cell_type": "markdown",
   "metadata": {},
   "source": [
    "For the first run, I'm sending it through IDBA to see if there's anything fruitful without manipulating the data (normalizing, partioning, more filtering, etc.)."
   ]
  },
  {
   "cell_type": "code",
   "execution_count": null,
   "metadata": {
    "collapsed": true
   },
   "outputs": [],
   "source": [
    "python interleave-fastq-to-fasta.py all-unmapped.r1.viral.pe.fastq all-unmapped.r2.viral.pe.fastq > all-unmapped.viral.interleaved.fasta\n",
    "\n",
    "qsub -v path=/scratch/at120/brugia-rnaseq/brugia_viral_search,fasta=all-unmapped.viral.interleaved.fasta run-idba.sh"
   ]
  },
  {
   "cell_type": "markdown",
   "metadata": {},
   "source": [
    "Putting this through IDBA, blasting, and then running Krona yielded 0 virus contigs LOL."
   ]
  },
  {
   "cell_type": "markdown",
   "metadata": {},
   "source": [
    "### Choristoneura occidentalis granulovirus"
   ]
  },
  {
   "cell_type": "markdown",
   "metadata": {},
   "source": [
    "This, next to PhiX, is the most prevalent virus in this run, so I'm going to start with this one first.\n",
    "\n",
    "http://www.ncbi.nlm.nih.gov/nuccore/NC_008168.1"
   ]
  },
  {
   "cell_type": "markdown",
   "metadata": {},
   "source": [
    "#### Mapping"
   ]
  },
  {
   "cell_type": "markdown",
   "metadata": {},
   "source": [
    "I'm mapping the reads to the genoem initially to see what kind of overage we're getting and if a near complete genome is possible.\n",
    "\n",
    "I think the insert size is -50? Bowtie2 doesn't allow negative insert sizes so that sucks"
   ]
  },
  {
   "cell_type": "code",
   "execution_count": null,
   "metadata": {
    "collapsed": true
   },
   "outputs": [],
   "source": [
    "module load bowtie2/2.2.7\n",
    "module load samtools/intel/1.3\n",
    "cd /scratch/at120/brugia-rnaseq/brugia_viral_search/suspected-viruses/Choristoneura_occidentalis_granulovirus\n",
    "\n",
    "bowtie2-build choristoneura_genome.fasta choristoneura_genome.fasta\n",
    "\n",
    "bowtie2 \\\n",
    "-p 12 \\\n",
    "--very-sensitive-local \\\n",
    "--un-conc non-choco-virus.fastq \\\n",
    "-x choristoneura_genome.fasta \\\n",
    "-1 all-unmapped.r1.viral.pe.fastq \\\n",
    "-2 all-unmapped.r2.viral.pe.fastq \\\n",
    "-S choristoneura_genome.sam\n",
    "\n",
    "module load samtools/intel/1.3\n",
    "samtools view -b -o choristoneura_genome.bam choristoneura_genome.sam"
   ]
  },
  {
   "cell_type": "markdown",
   "metadata": {},
   "source": [
    "4011418 reads; of these:\n",
    "  4011418 (100.00%) were paired; of these:\n",
    "    968151 (24.13%) aligned concordantly 0 times\n",
    "    3041538 (75.82%) aligned concordantly exactly 1 time\n",
    "    1729 (0.04%) aligned concordantly >1 times\n",
    "    ----\n",
    "    968151 pairs aligned concordantly 0 times; of these:\n",
    "      678294 (70.06%) aligned discordantly 1 time\n",
    "    ----\n",
    "    289857 pairs aligned 0 times concordantly or discordantly; of these:\n",
    "      579714 mates make up the pairs; of these:\n",
    "        579000 (99.88%) aligned 0 times\n",
    "        580 (0.10%) aligned exactly 1 time\n",
    "        134 (0.02%) aligned >1 times\n",
    "92.78% overall alignment rate\n",
    "\n",
    "The majority of these reads mapped to a very small segment that was presumably one of the unique regions chosen by Kraken, hence why the majority of these reads were assigned to this virus.\n",
    "\n",
    "I'm concluding this isn't present in this sample.\n",
    "\n",
    "![alt text](/Users/alan/projects/brugia_viral_search/choco-virus/igv_snapshot.png\")"
   ]
  },
  {
   "cell_type": "markdown",
   "metadata": {},
   "source": [
    "### Simbu Virus"
   ]
  },
  {
   "cell_type": "markdown",
   "metadata": {},
   "source": [
    "http://www.ncbi.nlm.nih.gov/genome/?term=Simbu%20virus\n",
    "\n",
    "all of the reference sequences can be found with the kraken database: /scratch/at120/shared/db/kraken/standard/library/Viruses/\n",
    "\n",
    "This one had the same phenomenon, so rule this out."
   ]
  },
  {
   "cell_type": "markdown",
   "metadata": {},
   "source": [
    "### All Kraken Virsues"
   ]
  },
  {
   "cell_type": "markdown",
   "metadata": {},
   "source": [
    "I'm going to map all of the reads to the list of viruses that have more than 500 reads assigned to them and see what comes of it. It'll be quicker this way to interrogate potentially full genomes."
   ]
  },
  {
   "cell_type": "code",
   "execution_count": null,
   "metadata": {
    "collapsed": true
   },
   "outputs": [],
   "source": [
    "cd /scratch/at120/brugia-rnaseq/brugia_viral_search/all-kraken-viruses\n",
    "\n",
    "cat /scratch/at120/shared/db/kraken/standard/library/Viruses/*/*fna > all-kraken-seqs.fasta\n",
    "\n",
    "bowtie2-build all-kraken-seqs.fasta all-kraken-seqs.fasta\n",
    "bowtie2 \\\n",
    "-p 12 \\\n",
    "--very-sensitive-local \\\n",
    "--un-conc unconc.fastq \\\n",
    "-x all-kraken-seqs.fasta \\\n",
    "-1 all-unmapped.r1.viral.pe.fastq \\\n",
    "-2 all-unmapped.r2.viral.pe.fastq \\\n",
    "-S all-kraken-seqs.sam\n",
    "\n",
    "samtools view -b -o all-kraken-seqs.bam  all-kraken-seqs.sam\n",
    "samtools sort -o all-kraken-seqs.sort.bam all-kraken-seqs.bam\n",
    "samtools index all-kraken-seqs.bam"
   ]
  },
  {
   "cell_type": "markdown",
   "metadata": {},
   "source": [
    "The top 15 of these all had a 100bp region where a lot of reads mapped, nothing fruitful other than that."
   ]
  },
  {
   "cell_type": "markdown",
   "metadata": {},
   "source": [
    "### LMAT"
   ]
  },
  {
   "cell_type": "markdown",
   "metadata": {},
   "source": [
    "Since kraken failed pretty miserably in providing any decent results, I'm going to give Kraken a try to see if that does any better at providing me a frame of reference for finding viruses."
   ]
  },
  {
   "cell_type": "code",
   "execution_count": null,
   "metadata": {
    "collapsed": true
   },
   "outputs": [],
   "source": []
  },
  {
   "cell_type": "markdown",
   "metadata": {},
   "source": [
    "## All Brugia Runs\n",
    "Meanwhile, I merged all the brugia sequencing runs, ran tophat and kraken and same process as before"
   ]
  },
  {
   "cell_type": "code",
   "execution_count": null,
   "metadata": {
    "collapsed": true
   },
   "outputs": [],
   "source": [
    "cd /scratch/at120/brugia-rnaseq/brugia_viral_search/all-runs\n",
    "\n",
    "cat /data/cgsb/gencore/out/Ghedin/2014-08-12_HAAULADXX/*R1* > all-r1.fastq.gz\n",
    "cat /data/cgsb/gencore/out/Ghedin/2014-08-12_HAAULADXX/*R2* > all-r2.fastq.gz\n",
    "cat /data/cgsb/gencore/out/Ghedin/2015-03-24_H2V3NBCXX/*/*n01* >> all-r1.fastq.gz\n",
    "cat /data/cgsb/gencore/out/Ghedin/2015-03-24_H2V3NBCXX/*/*n02* >> all-r2.fastq.gz\n",
    "cat /data/cgsb/gencore/out/Ghedin/2015-10-06_H5KNLBGXX/combined/*n01* >> all-r1.fastq.gz\n",
    "cat /data/cgsb/gencore/out/Ghedin/2015-10-06_H5KNLBGXX/combined/*n02* >> all-r2.fastq.gz\n",
    "\n",
    "qsub -v path=/scratch/at120/brugia-rnaseq/brugia_viral_search,fastq=all ../run-tophat.sh"
   ]
  },
  {
   "cell_type": "markdown",
   "metadata": {},
   "source": [
    "This took WAY too long so I used the filter script seen here:"
   ]
  },
  {
   "cell_type": "code",
   "execution_count": null,
   "metadata": {
    "collapsed": true
   },
   "outputs": [],
   "source": []
  }
 ],
 "metadata": {
  "kernelspec": {
   "display_name": "Bash",
   "language": "bash",
   "name": "bash"
  },
  "language_info": {
   "codemirror_mode": "shell",
   "file_extension": ".sh",
   "mimetype": "text/x-sh",
   "name": "bash"
  }
 },
 "nbformat": 4,
 "nbformat_minor": 0
}
